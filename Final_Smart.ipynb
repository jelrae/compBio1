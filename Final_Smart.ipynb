{
 "cells": [
  {
   "cell_type": "markdown",
   "metadata": {},
   "source": [
    "# Assignment 1"
   ]
  },
  {
   "cell_type": "markdown",
   "metadata": {},
   "source": [
    "## Introduction\n",
    "\n",
    "While biological systems are often very complex, in many cases formulas are available to model these formulas in a mathematical way. These equations and systems of equations can be utilized to model the biological system on a computer kin roder to sample multiple configurations quickly.  "
   ]
  },
  {
   "cell_type": "markdown",
   "metadata": {},
   "source": [
    "## 1 Bacterial Growth"
   ]
  },
  {
   "cell_type": "markdown",
   "metadata": {},
   "source": [
    "Integrating $\\frac{\\delta x}{\\delta t} = C x$ gives $x_{t} = x_0 \\cdot e^{C t}$.\n",
    "We know that $x_{0} = 10$ and $x_{20} = 20$, therefore: $20 = 10 \\cdot e^{C \\cdot 20} \\Leftrightarrow 2 = e^{C \\cdot 20} \\Leftrightarrow log(2) = C \\cdot 20 \\Leftrightarrow C = \\frac{ln(2)}{20} \\Leftrightarrow C = 0.03466$.\n",
    "\n",
    "Or more generally $C = \\frac{log(2)}{D}$ where D is the doubling time.\n",
    "\n",
    "To calculate when a certain increase from the original number has occured we can will in a corresponding multiple of the starting value and solve the formula for $t$: $x_{final} = x_0 \\cdot e^{C \\cdot t} \\Leftrightarrow \\frac{x_{final}}{x_0} = e^{C \\cdot t} \\Leftrightarrow ln(\\frac{x_{final}}{x_0}) = C \\cdot t \\Leftrightarrow t = \\frac{ln(\\frac{x_{final}}{x_0})}{C}$\n",
    "In the case of $x_{final} = 80$ this gives $t = 60$ and $x_{final} = 100$ results in $t = 66.4386$."
   ]
  },
  {
   "cell_type": "code",
   "execution_count": 1,
   "metadata": {},
   "outputs": [
    {
     "name": "stdout",
     "output_type": "stream",
     "text": [
      "8\n",
      "('To get ', 8, 'x initial value of 10, t should be:', 60.00000001384513)\n",
      "10\n",
      "('To get ', 10, 'x initial value of 10, t should be:', 66.4385619130781)\n"
     ]
    }
   ],
   "source": [
    "import math\n",
    "import numpy as np\n",
    "import matplotlib.pyplot as plt\n",
    "import scipy.optimize as sp\n",
    "\n",
    "c = 0.03465735902\n",
    "ratio = np.arange(8, 11,2)\n",
    "for r in ratio:\n",
    "    print(r)\n",
    "    print(\"To get \",  r, \"x initial value of 10, t should be:\", math.log(r)/c)"
   ]
  },
  {
   "cell_type": "code",
   "execution_count": 2,
   "metadata": {},
   "outputs": [],
   "source": [
    "time = np.arange(0,101,5)\n",
    "x = [10*math.exp(t*0.034657) for t in time]"
   ]
  },
  {
   "cell_type": "code",
   "execution_count": 3,
   "metadata": {},
   "outputs": [
    {
     "data": {
      "text/plain": [
       "[<matplotlib.lines.Line2D at 0x7f58acf03ed0>]"
      ]
     },
     "execution_count": 3,
     "metadata": {},
     "output_type": "execute_result"
    },
    {
     "data": {
      "image/png": "[encoded data removed]",
      "text/plain": [
       "<Figure size 432x288 with 1 Axes>"
      ]
     },
     "metadata": {
      "needs_background": "light"
     },
     "output_type": "display_data"
    }
   ],
   "source": [
    "plt.plot(time, x)"
   ]
  },
  {
   "cell_type": "markdown",
   "metadata": {},
   "source": [
    "## 2"
   ]
  },
  {
   "cell_type": "code",
   "execution_count": 6,
   "metadata": {
    "scrolled": true
   },
   "outputs": [
    {
     "name": "stdout",
     "output_type": "stream",
     "text": [
      "21\n",
      "21\n",
      "(1.7025883075218307, 1.4153384424892645, 1.48353323690383)\n"
     ]
    },
    {
     "data": {
      "image/png": "[encoded data removed]",
      "text/plain": [
       "<Figure size 432x288 with 1 Axes>"
      ]
     },
     "metadata": {
      "needs_background": "light"
     },
     "output_type": "display_data"
    }
   ],
   "source": [
    "def model_exp(t, A, K, C):\n",
    "    return A*np.exp(K*t)+C\n",
    "\n",
    "def fit_exp_nonlin(t, y):\n",
    "    A = 1\n",
    "    K = 1\n",
    "    opt_parms, parm_cov = sp.curve_fit(model_exp, t, y, p0=(A, K, 0))\n",
    "    A, K, C = opt_parms\n",
    "    return A, K, C\n",
    "\n",
    "x_myData = np.arange(0.5, 2.6, 0.1)\n",
    "y_myData = [1.27,6.58,7.00,8.83,8.66,5.53,9.33,14.57,8.51,17.61,12.94,18.45,19.85,25.03,28.14,28.31,33.41,41.43,40.87,56.71,59.32]\n",
    "print(len(x_myData))\n",
    "print(len(y_myData))\n",
    "\n",
    "plt.scatter(x_myData,y_myData)\n",
    "m,b = np.polyfit(x_myData, y_myData, 1)\n",
    "m2,b2 = np.polyfit(np.exp(x_myData), y_myData, 1)\n",
    "\n",
    "y_linfit = [x*m+b for x in x_myData]\n",
    "\n",
    "a, k, c = fit_exp_nonlin(x_myData, y_myData)\n",
    "\n",
    "y_expfit = [model_exp(x,a,k,c) for x in x_myData]\n",
    "\n",
    "plt.plot(x_myData, y_linfit)\n",
    "plt.plot(x_myData, y_expfit)\n",
    "\n",
    "print(a,k,c)"
   ]
  },
  {
   "cell_type": "code",
   "execution_count": 5,
   "metadata": {},
   "outputs": [
    {
     "name": "stdout",
     "output_type": "stream",
     "text": [
      "('The average error of the linear fit it: ', 5.044735930735932)\n",
      "('The average error of the exponential fit it: ', 2.1644989412175484)\n"
     ]
    }
   ],
   "source": [
    "td_l = 0\n",
    "td_e = 0\n",
    "for i in range(0,len(y_myData)):\n",
    "    td_l += np.abs(y_linfit[i]-y_myData[i])\n",
    "    td_e += np.abs(y_expfit[i]-y_myData[i])\n",
    "print(\"The average error of the linear fit it: \", td_l/len(y_myData))\n",
    "print(\"The average error of the exponential fit it: \", td_e/len(y_myData))"
   ]
  },
  {
   "cell_type": "markdown",
   "metadata": {},
   "source": [
    "From the figure it can be seen that an exponential function fits the data better.  the differential equation for the fitted function?  How do I derive this?"
   ]
  },
  {
   "cell_type": "markdown",
   "metadata": {},
   "source": [
    "## 3 The SIR Model - Seasonal Epidemics"
   ]
  },
  {
   "cell_type": "code",
   "execution_count": 9,
   "metadata": {},
   "outputs": [
    {
     "data": {
      "application/vnd.jupyter.widget-view+json": {
       "model_id": "1d06828794344f1bbec773ad341e7c10",
       "version_major": 2,
       "version_minor": 0
      },
      "text/plain": [
       "aW50ZXJhY3RpdmUoY2hpbGRyZW49KEZsb2F0U2xpZGVyKHZhbHVlPTAuNSwgZGVzY3JpcHRpb249dSdtdScsIG1heD0xLjApLCBGbG9hdFNsaWRlcih2YWx1ZT0wLjUsIGRlc2NyaXB0aW9uPXXigKY=\n"
      ]
     },
     "metadata": {},
     "output_type": "display_data"
    }
   ],
   "source": [
    "%matplotlib inline\n",
    "from ipywidgets import interact, interactive\n",
    "from IPython.display import clear_output, display, HTML\n",
    "\n",
    "#import numpy as np\n",
    "#from scipy import integrate\n",
    "import math\n",
    "from matplotlib import pyplot as plt\n",
    "#from mpl_toolkits.mplot3d import Axes3D\n",
    "#from matplotlib.colors import cnames\n",
    "#from matplotlib import animation\n",
    "\n",
    "\n",
    "def SIR(mu, beta_0, season_length, gamma, I_0, time):\n",
    "    delta_t = 0.1\n",
    "    S = 1-I_0\n",
    "    I = I_0\n",
    "    R = 0.0\n",
    "    S_list = []\n",
    "    I_list = []\n",
    "    R_list = []\n",
    "    time_list = []\n",
    "    for t in range(int(time/delta_t)):\n",
    "        S_list.append(S)\n",
    "        I_list.append(I)\n",
    "        R_list.append(R)\n",
    "        time_list.append(t*delta_t)\n",
    "        S_new = S + (mu - mu * S - beta_0 * (1+ math.sin(2*math.pi*t*delta_t/season_length))*I*S) * delta_t\n",
    "        I_new = I + (beta_0 * (1+ math.sin(2*math.pi*t*delta_t/season_length))*I*S - (gamma+mu) * I) * delta_t\n",
    "        R_new = R + (gamma * I - mu * R) * delta_t\n",
    "        S, I, R = S_new, I_new, R_new\n",
    "    plt.figure()\n",
    "    plt.plot(time_list, S_list, \"r\", label = \"S\")\n",
    "    plt.plot(time_list, I_list, \"b\", label = \"I\")\n",
    "    plt.plot(time_list, R_list, \"g\", label = \"R\")\n",
    "    plt.xlabel(\"Time\")\n",
    "    plt.ylabel(\"Fraction of population\")\n",
    "    plt.legend(loc = \"upper right\")\n",
    "    plt.show()\n",
    "SIR_interact = interactive(SIR, mu=(0.0, 1.0), beta_0=(0.0, 1.0), \n",
    "                           season_length=(0.01, 30.0), gamma=(0.0, 1.0), I_0=(0.01, 1.0), time =(10,110))\n",
    "display(SIR_interact)\n"
   ]
  },
  {
   "cell_type": "code",
   "execution_count": null,
   "metadata": {},
   "outputs": [],
   "source": []
  }
 ],
 "metadata": {
  "kernelspec": {
   "display_name": "Python 3",
   "language": "python",
   "name": "python3"
  },
  "language_info": {
   "codemirror_mode": {
    "name": "ipython",
    "version": 2
   },
   "file_extension": ".py",
   "mimetype": "text/x-python",
   "name": "python",
   "nbconvert_exporter": "python",
   "pygments_lexer": "ipython2",
   "version": "2.7.15"
  }
 },
 "nbformat": 4,
 "nbformat_minor": 2
}
