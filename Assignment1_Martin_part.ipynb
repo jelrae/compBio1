{
 "cells": [
  {
   "cell_type": "code",
   "execution_count": 66,
   "metadata": {},
   "outputs": [
    {
     "name": "stdout",
     "output_type": "stream",
     "text": [
      "0.034657359028\n",
      "60.0\n",
      "66.4385618977\n",
      "100.0\n"
     ]
    }
   ],
   "source": [
    "import math\n",
    "\"\"\"def calculate_density(C, time, step_size, starting_value):\n",
    "    for i in range(1, int(time/step_size)+1):\n",
    "        starting_value += C*starting_value*step_size\n",
    "#        print(starting_value)\n",
    "    return starting_value\n",
    "print(calculate_density(1.03526, 1, 0.1, 10))\n",
    "exp_growth = lambda time, double, C: math.exp(math.log(time/double)*C)\n",
    "#print(exp_growth(10, 10,2))\"\"\"\n",
    "start = 10\n",
    "double_time = 20\n",
    "time = 1\n",
    "C = (math.log(2)/double_time)\n",
    "print(C)\n",
    "x_final = 80\n",
    "t_for_rep = math.log(x_final / start) / C\n",
    "print(t_for_rep)\n",
    "x_final = 100\n",
    "t_for_rep = math.log(x_final / start) / C\n",
    "print(t_for_rep)"
   ]
  },
  {
   "cell_type": "markdown",
   "metadata": {},
   "source": [
    "Integrating $\\frac{\\delta x}{\\delta t} = C x$ gives $x_{t} = x_0 \\cdot e^{C t}$.\n",
    "We know that $x_{0} = 10$ and $x_{20} = 20$, therefore: $20 = 10 \\cdot e^{C \\cdot 20} \\Leftrightarrow 2 = e^{C \\cdot 20} \\Leftrightarrow log(2) = C \\cdot 20 \\Leftrightarrow C = \\frac{ln(2)}{20} \\Leftrightarrow C = 0.03466$.\n",
    "\n",
    "Or more generally $C = \\frac{log(2)}{D}$ where D is the doubling time.\n",
    "\n",
    "To calculate when a certain increase from the original number has occured we can will in a corresponding multiple of the starting value and solve the formula for $t$: $x_{final} = x_0 \\cdot e^{C \\cdot t} \\Leftrightarrow \\frac{x_{final}}{x_0} = e^{C \\cdot t} \\Leftrightarrow ln(\\frac{x_{final}}{x_0}) = C \\cdot t \\Leftrightarrow t = \\frac{ln(\\frac{x_{final}}{x_0})}{C}$\n",
    "In the case of $x_{final} = 80$ this gives $t = 60$ and $x_{final} = 100$ results in $t = 66.4386$."
   ]
  },
  {
   "cell_type": "code",
   "execution_count": 24,
   "metadata": {},
   "outputs": [
    {
     "data": {
      "application/vnd.jupyter.widget-view+json": {
       "model_id": "e94592c2948a454383f9196e8fd54383",
       "version_major": 2,
       "version_minor": 0
      },
      "text/plain": [
       "aW50ZXJhY3RpdmUoY2hpbGRyZW49KEZsb2F0U2xpZGVyKHZhbHVlPTAuNSwgZGVzY3JpcHRpb249dSdtdScsIG1heD0xLjApLCBGbG9hdFNsaWRlcih2YWx1ZT0wLjUsIGRlc2NyaXB0aW9uPXXigKY=\n"
      ]
     },
     "metadata": {},
     "output_type": "display_data"
    }
   ],
   "source": [
    "%matplotlib inline\n",
    "from ipywidgets import interact, interactive\n",
    "from IPython.display import clear_output, display, HTML\n",
    "\n",
    "#import numpy as np\n",
    "#from scipy import integrate\n",
    "import math\n",
    "from matplotlib import pyplot as plt\n",
    "#from mpl_toolkits.mplot3d import Axes3D\n",
    "#from matplotlib.colors import cnames\n",
    "#from matplotlib import animation\n",
    "\n",
    "\n",
    "def SIR(mu, beta_0, season_length, gamma, I_0, time):\n",
    "    delta_t = 0.1\n",
    "    S = 1-I_0\n",
    "    I = I_0\n",
    "    R = 0.0\n",
    "    S_list = []\n",
    "    I_list = []\n",
    "    R_list = []\n",
    "    time_list = []\n",
    "    for t in range(int(time/delta_t)):\n",
    "        S_list.append(S)\n",
    "        I_list.append(I)\n",
    "        R_list.append(R)\n",
    "        time_list.append(t*delta_t)\n",
    "        S_new = S + (mu - mu * S - beta_0 * (1+ math.sin(2*math.pi*t*delta_t/season_length))*I*S) * delta_t\n",
    "        I_new = I + (beta_0 * (1+ math.sin(2*math.pi*t*delta_t/season_length))*I*S - (gamma+mu) * I) * delta_t\n",
    "        R_new = R + (gamma * I - mu * R) * delta_t\n",
    "        S, I, R = S_new, I_new, R_new\n",
    "    plt.figure()\n",
    "    plt.plot(time_list, S_list, \"r\", label = \"S\")\n",
    "    plt.plot(time_list, I_list, \"b\", label = \"I\")\n",
    "    plt.plot(time_list, R_list, \"g\", label = \"R\")\n",
    "    plt.xlabel(\"Time\")\n",
    "    plt.ylabel(\"Fraction of population\")\n",
    "    plt.legend(loc = \"upper right\")\n",
    "    plt.show()\n",
    "SIR_interact = interactive(SIR, mu=(0.0, 1.0), beta_0=(0.0, 1.0), \n",
    "                           season_length=(0.0, 30.0), gamma=(0.0, 1.0), I_0=(0.0, 1.0), time =(10,110))\n",
    "display(SIR_interact)\n"
   ]
  },
  {
   "cell_type": "code",
   "execution_count": null,
   "metadata": {},
   "outputs": [],
   "source": []
  }
 ],
 "metadata": {
  "kernelspec": {
   "display_name": "Python 2",
   "language": "python",
   "name": "python2"
  },
  "language_info": {
   "codemirror_mode": {
    "name": "ipython",
    "version": 2
   },
   "file_extension": ".py",
   "mimetype": "text/x-python",
   "name": "python",
   "nbconvert_exporter": "python",
   "pygments_lexer": "ipython2",
   "version": "2.7.15"
  }
 },
 "nbformat": 4,
 "nbformat_minor": 2
}
